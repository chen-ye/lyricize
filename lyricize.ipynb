{
 "cells": [
  {
   "cell_type": "code",
   "execution_count": 1,
   "metadata": {},
   "outputs": []
  },
  {
   "cell_type": "code",
   "execution_count": 83,
   "metadata": {},
   "outputs": [],
   "source": [
    "import requests\n",
    "from urllib.parse import urlencode"
   ]
  },
  {
   "cell_type": "code",
   "execution_count": 52,
   "metadata": {},
   "outputs": [],
   "source": [
    "#Assign your Genius.com credentials and select your artist\n",
    "import lyricsgenius as genius\n",
    "geniusCreds = \"\"\n",
    "api = genius.Genius(geniusCreds, skip_non_songs=True)"
   ]
  },
  {
   "cell_type": "code",
   "execution_count": 41,
   "metadata": {},
   "outputs": [],
   "source": [
    "from fuzzywuzzy import process\n",
    "from fuzzywuzzy import utils"
   ]
  },
  {
   "cell_type": "code",
   "execution_count": 104,
   "metadata": {},
   "outputs": [],
   "source": [
    "import spotipy\n",
    "import spotipy.util as spotipy_util\n",
    "scope = 'user-library-read'\n",
    "username = 'blasternt'\n",
    "spotify_token = spotipy_util.prompt_for_user_token(username,scope,client_id='',client_secret='',redirect_uri='https://chen-ye.github.io/lyricize/')\n",
    "if spotify_token:\n",
    "    spotify = spotipy.Spotify(auth=spotify_token)\n",
    "else:\n",
    "    print(\"Can't get token for\", username)"
   ]
  },
  {
   "cell_type": "code",
   "execution_count": 105,
   "metadata": {},
   "outputs": [],
   "source": [
    "playlist = spotify.user_playlist(username, '0BSdjrucaGOW2uqYLvodj4', fields='tracks,next')"
   ]
  },
  {
   "cell_type": "code",
   "execution_count": 106,
   "metadata": {},
   "outputs": [],
   "source": [
    "track_items = []\n",
    "results = playlist['tracks']\n",
    "while results:\n",
    "    track_items = track_items + results['items']\n",
    "    if results['next']:\n",
    "        results = spotify.next(results)\n",
    "    else:\n",
    "        results = None\n"
   ]
  },
  {
   "cell_type": "code",
   "execution_count": 107,
   "metadata": {},
   "outputs": [],
   "source": [
    "songs = [(track_result['track']['name'], track_result['track']['artists'][0]['name']) for track_result in track_items]"
   ]
  },
  {
   "cell_type": "code",
   "execution_count": 117,
   "metadata": {},
   "outputs": [],
   "source": [
    "songs_strings = [title + ',' + artist for (title, artist) in songs]"
   ]
  },
  {
   "cell_type": "code",
   "execution_count": null,
   "metadata": {},
   "outputs": [],
   "source": [
    "song_results = [ api.search_song(song[0], artist=song[1], get_full_info=False) for song in songs ]"
   ]
  },
  {
   "cell_type": "code",
   "execution_count": 46,
   "metadata": {},
   "outputs": [],
   "source": [
    "song_lyrics_processed = { song:utils.full_process(song.lyrics, force_ascii=True) if song else \"\" for song in song_results }"
   ]
  },
  {
   "cell_type": "code",
   "execution_count": null,
   "metadata": {},
   "outputs": [],
   "source": [
    "process.extract(\"please don't\", song_lyrics_processed)"
   ]
  },
  {
   "cell_type": "code",
   "execution_count": 76,
   "metadata": {},
   "outputs": [],
   "source": [
    "genius_results = api.search_genius_web(\"please don't\")"
   ]
  },
  {
   "cell_type": "code",
   "execution_count": 77,
   "metadata": {},
   "outputs": [],
   "source": [
    "genius_lyric_results = genius_results['sections'][2]['hits']"
   ]
  },
  {
   "cell_type": "code",
   "execution_count": 78,
   "metadata": {},
   "outputs": [
    {
     "data": {
      "text/plain": [
       "[('Fuck Love', 'XXXTENTACION'),\n",
       " ('Wet Dreamz', 'J. Cole'),\n",
       " ('Heathens', '\\u200btwenty one pilots'),\n",
       " ('Marvin’s Room', 'Drake'),\n",
       " ('The Worst', 'Jhené Aiko')]"
      ]
     },
     "execution_count": 78,
     "metadata": {},
     "output_type": "execute_result"
    }
   ],
   "source": [
    "[(result['result']['title'], result['result']['primary_artist']['name']) for result in genius_lyric_results]"
   ]
  },
  {
   "cell_type": "code",
   "execution_count": 109,
   "metadata": {},
   "outputs": [],
   "source": [
    "def search_lyrics_page(query, page=1):\n",
    "    \"\"\"Use the web-version of Genius search\"\"\"\n",
    "    endpoint = \"search/lyric?\"\n",
    "    params = {'page': page, 'q': query}\n",
    "\n",
    "    # This endpoint is not part of the API, requires different formatting\n",
    "    url = \"https://genius.com/api/\" + endpoint + urlencode(params)\n",
    "    response = requests.get(url)\n",
    "    return response.json()['response'] if response else None"
   ]
  },
  {
   "cell_type": "code",
   "execution_count": 118,
   "metadata": {},
   "outputs": [],
   "source": [
    "def search_lyrics_in_library(query):\n",
    "    next_page = 1\n",
    "    while next_page:\n",
    "        genius_results = search_lyrics(query, next_page)\n",
    "        genius_lyric_results = genius_results['sections'][0]['hits']\n",
    "        song_results = [(result['result']['title'], result['result']['primary_artist']['name']) for result in genius_lyric_results]\n",
    "        print(song_results)\n",
    "        song_results_filtered = [result for result in genius_lyric_results if (result['result']['title'] + ',' + result['result']['primary_artist']['name'] in songs_strings) ]\n",
    "        if song_results_filtered:\n",
    "            print([(result['result']['title'], result['result']['primary_artist']['name'], result) for result in song_results_filtered])\n",
    "            break\n",
    "        next_page = genius_results['next_page']"
   ]
  },
  {
   "cell_type": "code",
   "execution_count": 119,
   "metadata": {},
   "outputs": [
    {
     "name": "stdout",
     "output_type": "stream",
     "text": [
      "[('The Great Gatsby (Chapter III)', 'F. Scott Fitzgerald'), ('The Great Gatsby (Chapter VII)', 'F. Scott Fitzgerald'), ('Black Widow', 'Iggy Azalea'), ('Obsessed', 'Mariah Carey'), ('Lord of the Flies (Chap. 1: The Sound of the Shell)', 'William Golding'), ('Trill Luv', 'Yakki Divioshi'), ('Yaphet Kotto', 'Childish Gambino'), ('Helplessly Hoping', 'Crosby, Stills & Nash'), ('Lord of the Flies (Chap. 2: Fire on the Mountain)', 'William Golding'), ('Guillotine (Swordz)', 'Raekwon')]\n",
      "[('BTS - DNA (English Translation)', 'Genius English Translations'), ('Bring It On', 'JAY-Z'), ('The Type', 'Sarah Kay'), ('Rap God (Remix)', 'K.A.A.N.'), ('We All Die One Day', 'Obie Trice'), ('Sic Transit Gloria... Glory Fades', 'Brand New'), ('Gang Bang Anyway', 'The Game'), ('Lost', 'Illenium'), ('Day of the Dead', 'Hollywood Undead'), ('French Kiss', 'Trey Songz')]\n",
      "[('Let’s Begin', 'Jon Bellion'), ('God’s Plan', 'Phora'), ('A Christmas Carol (Part 3)', 'Charles Dickens'), ('Fat Raps (Remix)', 'Big Sean'), ('Heart of Darkness (Section III)', 'Joseph Conrad'), ('Ryūketsu No Gaun (Bloody Gown)', 'Xavier Wulf & BONES'), ('Isabella; Or The Pot Of Basil', 'John Keats'), ('Keep Your Eyes Peeled', 'Queens of the Stone Age'), ('Assassination Day', 'Ghostface Killah'), ('Strangers', '\\u200bBiosphere (Producer)')]\n",
      "[('Under', 'Sampha'), ('The Lottery', 'Shirley Jackson'), ('Hypocrisy', 'Skepta'), ('The Catastrophe of Success', 'Tennessee Williams'), ('The Mind Electric', 'Miracle Musical'), ('You’re So Last Summer', 'Taking Back Sunday'), ('Millie B Reply', 'Soph Aspin'), ('Life', 'NEFFEX'), ('Lord of the Flies (Chap. 8: Gift for the Darkness)', 'William Golding'), ('Pussy Killz (Bonus Disc)', 'Nas')]\n",
      "[('Assassins', 'Pharoahe Monch'), ('DJ Green Lantern “D.O.A.” Freestyle Part 1', 'Slaughterhouse'), ('Before Giving Care and Checking an Injured or Ill Person', 'American Red Cross'), ('Echelon (It’s My Way)', 'Angel Haze'), ('Smoke', 'Ces Cru'), ('Meanwhile In Honeydew', 'A-Reece'), ('Well I Wonder', 'The Smiths'), ('Simon Says', 'Allie X'), ('Time For Bed', 'Khalil'), ('Harry Potter and the Philosopher’s Stone: (Ch. 3) Letters From No One', 'J.K. Rowling')]\n",
      "[('Ashtin Larold vs KoppSoSick', 'Ashtin Larold'), ('The Battle of Hampton Roads', 'Titus Andronicus'), ('The Scarlet Letter (Chap. 6)', 'Nathaniel Hawthorne'), ('The Queen’s Justice', 'Game of Thrones'), ('The Trial of R. Kelly', 'The Boondocks'), ('Swims', 'Mount Eerie'), ('CORNERSTORE', 'Joey Purp'), ('Method Man & Black Thought Sway In The Morning Freestyle', 'Sway in the Morning'), ('Fuck the World', 'Hollywood Undead'), ('Oathbreaker', 'Game of Thrones')]\n",
      "[('Songs of the Same Title', 'Genius Users'), ('Thinking He’s Hard [Little T Reply]', 'Soph Aspin'), ('Who Got Gunz', 'Gang Starr'), ('X Marks The Spot', 'Ghostpoet'), ('Between Two Lungs', 'Florence + The Machine'), ('Lay My Body Down', 'Rag’n’Bone Man'), ('K.A.A.N. The Conqueror', 'K.A.A.N.'), ('It’s On', 'Beanie Sigel'), ('My Favorite', 'Tech N9ne'), ('Finnegan’s Wake (Chap. 2.3)', 'James Joyce')]\n",
      "[('According to Plan', 'Danny Elfman'), ('A King’s Nightmare', 'Polo G'), ('Land of Shadows', 'DJ Muggs vs. Sick Jacken'), ('Defective Trip (Trippin’)', 'Gravediggaz'), ('Pull Harder on the Strings of Your Martyr', 'Trivium'), ('The Scarlet Letter (Chap. 17)', 'Nathaniel Hawthorne'), ('Put Your Quarter Up', 'Molemen'), ('Fumes', 'Aesop Rock'), ('The Most Dangerous Game', 'Richard Connell'), ('The Broken Man', 'Game of Thrones')]\n",
      "[('Carolina Drama', 'The Raconteurs'), ('June 2001: —And The Moon Be Still As Bright', 'Ray Bradbury'), ('Why U Always Lying?', 'Strife Kid'), ('Mrs. Dalloway (Part 6)', 'Virginia Woolf'), ('The Strange Case of Dr. Jekyll and Mr. Hyde (Chap. 9)', 'Robert Louis Stevenson'), ('Ulysses (Chap. 11 - Sirens)', 'James Joyce'), ('Full Metal Jacket part 1', 'Stanley Kubrick'), ('Thy Guv’nor', 'Primetime the Apex'), ('Divergent (Chapter 6)', 'Veronica Roth'), ('The Glass Menagerie (Scene 3)', 'Tennessee Williams')]\n",
      "[('Tintin in Tibet', 'Mount Eerie'), ('The One With the Blackout', 'Friends (TV)'), ('Murder Spree', 'Ghostface Killah & Adrian Younge'), ('Deliverance', 'Opeth'), ('Song 6', 'George Ezra'), ('2015 XXL Freshman Cypher Pt. 1', 'XXL'), ('Fire in the Booth (Part 2)', 'Lowkey'), ('Knock On My Door', 'Faouzia'), ('The Road (Excerpt)', 'Cormac McCarthy'), ('Light Speed (Freestyle)', 'Eminem')]\n",
      "[('The Sieve and the Sand', 'Ray Bradbury'), ('Kids in Love', 'Mayday Parade'), ('Auto Tuned', 'Tyler, The Creator'), ('CUCK', 'JPEGMAFIA'), ('2015 Zane Lowe BBC Radio Interview', 'Zane Lowe'), ('Beast', 'The Acacia Strain'), ('Open', 'The Cure'), ('About to Die', 'Dirty Projectors'), ('Love Suicide', 'Tinie Tempah'), ('Love Without Possession', 'Mount Eerie')]\n",
      "[('True Romance - Screenplay', 'Quentin Tarantino'), ('Drown Pt.2', 'Young L3x'), ('Early Mornings', 'Yankee Gold'), ('Matriarch', 'The Black Dahlia Murder'), ('Melpomene', 'The Dear Hunter'), ('Alpha Seed', 'Erra'), ('Angela’s Ashes', 'Frank McCourt'), ('Anti', 'Joe Budden'), ('O.G. Loko', 'Of Mice & Men'), ('Subjected to a Beating', 'Dying Fetus')]\n",
      "[('Fire (Yes, Yes Y’all)', 'Joe Budden'), ('We Wrote An Anime Theme Song', '\\u200bjacksfilms'), ('A Christmas Carol (Part 4)', 'Charles Dickens'), ('Let Me In', 'Marika Hackman'), ('Fashion (Transcript)', 'Absolutely Fabulous'), ('Cut Hands Has the Solution', 'Whitehouse'), ('Mr. Happy', 'Steve McClean'), ('Church In Ruins Script', 'True Detective'), ('In My Head', 'Far Places'), ('History', 'Carol Ann Duffy')]\n",
      "[('In My Head', 'Far Places', {'highlights': [{'property': 'lyrics', 'value': 'goodnight\\nAnd I drift off to sleep alone\\nI wake, gasping in the dim light\\nYour body has gone cold', 'snippet': True, 'ranges': [{'start': 49, 'end': 56}]}], 'index': 'lyric', 'type': 'song', 'result': {'_type': 'song', 'annotation_count': 2, 'api_path': '/songs/3099572', 'full_title': 'In My Head by\\xa0Far\\xa0Places', 'header_image_thumbnail_url': 'https://images.genius.com/74ffc073c5382ed68111426b746a32f0.200x200x1.jpg', 'header_image_url': 'https://images.genius.com/74ffc073c5382ed68111426b746a32f0.200x200x1.jpg', 'id': 3099572, 'instrumental': False, 'lyrics_owner_id': 4146011, 'lyrics_state': 'complete', 'lyrics_updated_at': 1569990270, 'path': '/Far-places-in-my-head-lyrics', 'pyongs_count': 2, 'song_art_image_thumbnail_url': 'https://images.genius.com/74ffc073c5382ed68111426b746a32f0.200x200x1.jpg', 'song_art_image_url': 'https://images.genius.com/74ffc073c5382ed68111426b746a32f0.200x200x1.jpg', 'stats': {'unreviewed_annotations': 2, 'hot': False}, 'title': 'In My Head', 'title_with_featured': 'In My Head', 'updated_by_human_at': 1569990270, 'url': 'https://genius.com/Far-places-in-my-head-lyrics', 'primary_artist': {'_type': 'artist', 'api_path': '/artists/1047118', 'header_image_url': 'https://images.genius.com/5045df7293b961574d124bbd158063b3.1000x667x1.jpg', 'id': 1047118, 'image_url': 'https://images.genius.com/bd8ae07a65953cf05ea1256854b4b9e7.1000x1000x1.jpg', 'index_character': 'f', 'is_meme_verified': False, 'is_verified': True, 'name': 'Far Places', 'slug': 'Far-places', 'url': 'https://genius.com/artists/Far-places', 'iq': 476}}})]\n"
     ]
    }
   ],
   "source": [
    "search_lyrics_in_library(\"gasping\")"
   ]
  },
  {
   "cell_type": "code",
   "execution_count": null,
   "metadata": {},
   "outputs": [],
   "source": []
  }
 ],
 "metadata": {
  "kernelspec": {
   "display_name": "Python 3",
   "language": "python",
   "name": "python3"
  },
  "language_info": {
   "codemirror_mode": {
    "name": "ipython",
    "version": 3
   },
   "file_extension": ".py",
   "mimetype": "text/x-python",
   "name": "python",
   "nbconvert_exporter": "python",
   "pygments_lexer": "ipython3",
   "version": "3.7.3"
  }
 },
 "nbformat": 4,
 "nbformat_minor": 2
}
