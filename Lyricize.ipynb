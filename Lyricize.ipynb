{
 "cells": [
  {
   "cell_type": "code",
   "execution_count": null,
   "metadata": {},
   "outputs": [],
   "source": [
    "# Install a pip package in the current Jupyter kernel\n",
    "import sys\n",
    "!{sys.executable} -m pip install -r requirements.txt"
   ]
  },
  {
   "cell_type": "code",
   "execution_count": null,
   "metadata": {},
   "outputs": [],
   "source": [
    "genius_creds = ''\n",
    "spotify_client_id = ''\n",
    "spotify_client_secret = ''"
   ]
  },
  {
   "cell_type": "code",
   "execution_count": 83,
   "metadata": {},
   "outputs": [],
   "source": [
    "import requests\n",
    "from urllib.parse import urlencode"
   ]
  },
  {
   "cell_type": "code",
   "execution_count": 104,
   "metadata": {},
   "outputs": [],
   "source": [
    "import spotipy\n",
    "import spotipy.util as spotipy_util\n",
    "scope = 'user-library-read'\n",
    "username = 'blasternt'\n",
    "spotify_token = spotipy_util.prompt_for_user_token(username,scope,client_id=spotify_client_id,client_secret=spotify_client_secret,redirect_uri='https://chen-ye.github.io/lyricize/')\n",
    "if spotify_token:\n",
    "    spotify = spotipy.Spotify(auth=spotify_token)\n",
    "else:\n",
    "    print(\"Can't get token for\", username)"
   ]
  },
  {
   "cell_type": "code",
   "execution_count": 105,
   "metadata": {},
   "outputs": [],
   "source": [
    "playlist = spotify.user_playlist(username, '0BSdjrucaGOW2uqYLvodj4', fields='tracks,next')"
   ]
  },
  {
   "cell_type": "code",
   "execution_count": 106,
   "metadata": {},
   "outputs": [],
   "source": [
    "track_items = []\n",
    "results = playlist['tracks']\n",
    "while results:\n",
    "    track_items = track_items + results['items']\n",
    "    if results['next']:\n",
    "        results = spotify.next(results)\n",
    "    else:\n",
    "        results = None\n"
   ]
  },
  {
   "cell_type": "code",
   "execution_count": 107,
   "metadata": {},
   "outputs": [],
   "source": [
    "songs = [(track_result['track']['name'], track_result['track']['artists'][0]['name']) for track_result in track_items]"
   ]
  },
  {
   "cell_type": "code",
   "execution_count": 117,
   "metadata": {},
   "outputs": [],
   "source": [
    "songs_strings = [title + ',' + artist for (title, artist) in songs]"
   ]
  },
  {
   "cell_type": "code",
   "execution_count": 109,
   "metadata": {},
   "outputs": [],
   "source": [
    "def search_lyrics_page(query, page=1):\n",
    "    \"\"\"Use the web-version of Genius search\"\"\"\n",
    "    endpoint = \"search/lyric?\"\n",
    "    params = {'page': page, 'q': query}\n",
    "\n",
    "    # This endpoint is not part of the API, requires different formatting\n",
    "    url = \"https://genius.com/api/\" + endpoint + urlencode(params)\n",
    "    response = requests.get(url)\n",
    "    return response.json()['response'] if response else None"
   ]
  },
  {
   "cell_type": "code",
   "execution_count": 118,
   "metadata": {},
   "outputs": [],
   "source": [
    "def search_lyrics_in_library(query):\n",
    "    next_page = 1\n",
    "    while next_page:\n",
    "        genius_results = search_lyrics(query, next_page)\n",
    "        genius_lyric_results = genius_results['sections'][0]['hits']\n",
    "        song_results = [(result['result']['title'], result['result']['primary_artist']['name']) for result in genius_lyric_results]\n",
    "        print(song_results)\n",
    "        song_results_filtered = [result for result in genius_lyric_results if (result['result']['title'] + ',' + result['result']['primary_artist']['name'] in songs_strings) ]\n",
    "        if song_results_filtered:\n",
    "            print([(result['result']['title'], result['result']['primary_artist']['name'], result) for result in song_results_filtered])\n",
    "            break\n",
    "        next_page = genius_results['next_page']"
   ]
  },
  {
   "cell_type": "code",
   "execution_count": null,
   "metadata": {},
   "outputs": [],
   "source": [
    "search_lyrics_in_library(\"gasping\")"
   ]
  },
  {
   "cell_type": "code",
   "execution_count": null,
   "metadata": {},
   "outputs": [],
   "source": []
  }
 ],
 "metadata": {
  "kernelspec": {
   "display_name": "Python 3",
   "language": "python",
   "name": "python3"
  },
  "language_info": {
   "codemirror_mode": {
    "name": "ipython",
    "version": 3
   },
   "file_extension": ".py",
   "mimetype": "text/x-python",
   "name": "python",
   "nbconvert_exporter": "python",
   "pygments_lexer": "ipython3",
   "version": "3.7.3"
  }
 },
 "nbformat": 4,
 "nbformat_minor": 2
}
